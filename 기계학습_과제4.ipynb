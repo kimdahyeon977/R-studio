{
  "nbformat": 4,
  "nbformat_minor": 0,
  "metadata": {
    "colab": {
      "name": "기계학습 과제4.ipynb",
      "provenance": [],
      "collapsed_sections": [],
      "authorship_tag": "ABX9TyP4a6yN90sjdbGKG+WCEVkm",
      "include_colab_link": true
    },
    "kernelspec": {
      "name": "python3",
      "display_name": "Python 3"
    },
    "language_info": {
      "name": "python"
    }
  },
  "cells": [
    {
      "cell_type": "markdown",
      "metadata": {
        "id": "view-in-github",
        "colab_type": "text"
      },
      "source": [
        "<a href=\"https://colab.research.google.com/github/kimdahyeon977/R-studio/blob/master/%EA%B8%B0%EA%B3%84%ED%95%99%EC%8A%B5_%EA%B3%BC%EC%A0%9C4.ipynb\" target=\"_parent\"><img src=\"https://colab.research.google.com/assets/colab-badge.svg\" alt=\"Open In Colab\"/></a>"
      ]
    },
    {
      "cell_type": "markdown",
      "source": [
        "##example1 "
      ],
      "metadata": {
        "id": "e4N1_A_VHiss"
      }
    },
    {
      "cell_type": "code",
      "execution_count": 1,
      "metadata": {
        "id": "5AsdreSxmf47"
      },
      "outputs": [],
      "source": [
        "import pandas as pd\n",
        "import numpy as np\n",
        "from sklearn.model_selection import train_test_split, GridSearchCV"
      ]
    },
    {
      "cell_type": "code",
      "source": [
        "np.random.rand(5)\n",
        "n=1000\n",
        "p=5000\n",
        "real_p=15\n",
        "x=np.array(np.random.normal(size=n*p)).reshape(n,p)\n",
        "y=pd.DataFrame(x[:,1:real_p]).apply(sum,axis=1)+np.random.normal(size=n)\n",
        "y"
      ],
      "metadata": {
        "colab": {
          "base_uri": "https://localhost:8080/"
        },
        "id": "N9Ny8nmam3QO",
        "outputId": "c0de5140-9a57-4593-e6c1-4ecff007f2c5"
      },
      "execution_count": 2,
      "outputs": [
        {
          "output_type": "execute_result",
          "data": {
            "text/plain": [
              "0      8.561552\n",
              "1     -1.985796\n",
              "2     -1.599888\n",
              "3     -0.015125\n",
              "4      1.670878\n",
              "         ...   \n",
              "995   -0.984980\n",
              "996   -0.702670\n",
              "997    0.598359\n",
              "998    1.500496\n",
              "999   -4.888107\n",
              "Length: 1000, dtype: float64"
            ]
          },
          "metadata": {},
          "execution_count": 2
        }
      ]
    },
    {
      "cell_type": "code",
      "source": [
        "x_train, x_test, y_train, y_test = train_test_split(x, y, test_size=0.33, random_state=42)"
      ],
      "metadata": {
        "id": "xrc1NEzfrtIp"
      },
      "execution_count": 3,
      "outputs": []
    },
    {
      "cell_type": "markdown",
      "source": [
        "#lasso & Ridge & ElasticNet"
      ],
      "metadata": {
        "id": "syCa4IIKuJ89"
      }
    },
    {
      "cell_type": "code",
      "source": [
        "from sklearn.linear_model import Lasso\n",
        "from sklearn.linear_model import Ridge\n",
        "from sklearn.linear_model import ElasticNet\n",
        "from sklearn.model_selection import cross_val_score\n",
        "from sklearn.metrics import mean_squared_error, r2_score, mean_absolute_error\n",
        "models = []\n",
        "models.append(('Lasso', Lasso()))\n",
        "models.append(('Ridge', Ridge()))  \n",
        "models.append(('ElasticNet', ElasticNet()))  \n",
        "param_grid=[{\n",
        "'alpha':[i/10 for i in range(1,11)]}]\n",
        "for name, model in models:\n",
        "  gs = GridSearchCV(\n",
        "      estimator  =model,\n",
        "      param_grid=param_grid,\n",
        "      verbose=True\n",
        "  )\n",
        "  gs.fit(x_train,y_train)\n",
        "  predict=gs.predict(x_test)\n",
        "  mse=mean_squared_error(predict, y_test)\n",
        "  msg = \"%s - MSE : %f\" % (name, mse)\n",
        "  print(msg)"
      ],
      "metadata": {
        "colab": {
          "base_uri": "https://localhost:8080/"
        },
        "id": "Mbe0mUuGodrt",
        "outputId": "48693deb-af73-4093-9a2e-135e6f8c23af"
      },
      "execution_count": 4,
      "outputs": [
        {
          "output_type": "stream",
          "name": "stdout",
          "text": [
            "Fitting 5 folds for each of 10 candidates, totalling 50 fits\n",
            "Lasso - MSE : 1.197109\n",
            "Fitting 5 folds for each of 10 candidates, totalling 50 fits\n",
            "Ridge - MSE : 13.703918\n",
            "Fitting 5 folds for each of 10 candidates, totalling 50 fits\n",
            "ElasticNet - MSE : 1.579674\n"
          ]
        }
      ]
    },
    {
      "cell_type": "markdown",
      "source": [
        "Lasso가 가장 좋은 성능을 보인다."
      ],
      "metadata": {
        "id": "RVxniWLuw7AK"
      }
    },
    {
      "cell_type": "markdown",
      "source": [
        "###exmaple 2"
      ],
      "metadata": {
        "id": "vhudOsYVw_t0"
      }
    },
    {
      "cell_type": "code",
      "source": [
        "np.random.rand(10)\n",
        "n=1000\n",
        "p=5000\n",
        "real_p=15\n",
        "x=np.array(np.random.normal(size=n*p)).reshape(n,p)\n",
        "y=pd.DataFrame(x[:,1:real_p]).apply(sum,axis=1)+np.random.normal(size=n)\n",
        "y"
      ],
      "metadata": {
        "colab": {
          "base_uri": "https://localhost:8080/"
        },
        "id": "BDRb29TpuxS2",
        "outputId": "3b05f038-8713-466d-aaf7-021051b6efda"
      },
      "execution_count": 5,
      "outputs": [
        {
          "output_type": "execute_result",
          "data": {
            "text/plain": [
              "0      5.903014\n",
              "1     -1.716635\n",
              "2     -2.425620\n",
              "3     -0.687320\n",
              "4      8.129069\n",
              "         ...   \n",
              "995   -5.224117\n",
              "996    0.771931\n",
              "997    2.212807\n",
              "998   -1.531243\n",
              "999   -6.471010\n",
              "Length: 1000, dtype: float64"
            ]
          },
          "metadata": {},
          "execution_count": 5
        }
      ]
    },
    {
      "cell_type": "code",
      "source": [
        "x_train, x_test, y_train, y_test = train_test_split(x, y, test_size=0.33, random_state=70)"
      ],
      "metadata": {
        "id": "ExWaiFXq1nF6"
      },
      "execution_count": 6,
      "outputs": []
    },
    {
      "cell_type": "code",
      "source": [
        "from sklearn.linear_model import Lasso\n",
        "from sklearn.linear_model import Ridge\n",
        "from sklearn.linear_model import ElasticNet\n",
        "from sklearn.model_selection import cross_val_score\n",
        "from sklearn.metrics import mean_squared_error, r2_score, mean_absolute_error\n",
        "models = []\n",
        "models.append(('Lasso', Lasso()))\n",
        "models.append(('Ridge', Ridge()))  \n",
        "models.append(('ElasticNet', ElasticNet()))  \n",
        "param_grid=[{\n",
        "'alpha':[i/10 for i in range(1,11)]}]\n",
        "for name, model in models:\n",
        "  gs = GridSearchCV(\n",
        "      estimator  =model,\n",
        "      param_grid=param_grid,\n",
        "      verbose=True\n",
        "  )\n",
        "  gs.fit(x_train,y_train)\n",
        "  predict=gs.predict(x_test)\n",
        "  mse=mean_squared_error(predict, y_test)\n",
        "  msg = \"%s - MSE : %f\" % (name, mse)\n",
        "  print(msg)"
      ],
      "metadata": {
        "colab": {
          "base_uri": "https://localhost:8080/"
        },
        "id": "L4bN8dI61sia",
        "outputId": "f49ebe4b-63d5-400e-e3ee-25206273f353"
      },
      "execution_count": 7,
      "outputs": [
        {
          "output_type": "stream",
          "name": "stdout",
          "text": [
            "Fitting 5 folds for each of 10 candidates, totalling 50 fits\n",
            "Lasso - MSE : 1.234375\n",
            "Fitting 5 folds for each of 10 candidates, totalling 50 fits\n",
            "Ridge - MSE : 12.905781\n",
            "Fitting 5 folds for each of 10 candidates, totalling 50 fits\n",
            "ElasticNet - MSE : 1.692307\n"
          ]
        }
      ]
    },
    {
      "cell_type": "markdown",
      "source": [
        "Lasso가 가장 좋은 성능을 보인다."
      ],
      "metadata": {
        "id": "38gQqk7BA3jO"
      }
    },
    {
      "cell_type": "markdown",
      "source": [
        "###example3"
      ],
      "metadata": {
        "id": "pZOShbXnA_t3"
      }
    },
    {
      "cell_type": "code",
      "source": [
        "from scipy.stats import multivariate_normal\n",
        "np.random.rand(15)\n",
        "n=100\n",
        "p=50\n",
        "covmatrix=[]\n",
        "for j in range(1,p+1):\n",
        "  y=[i for i in range(1,p+1)]\n",
        "  covmatrix.append(list(map(lambda b: 0.7**abs(j-b),y)))  "
      ],
      "metadata": {
        "id": "2WYJVwE0A-nj"
      },
      "execution_count": 13,
      "outputs": []
    },
    {
      "cell_type": "code",
      "source": [
        "covmatrix=np.array(covmatrix).reshape(50,50)"
      ],
      "metadata": {
        "id": "XfwiKqAIuo38"
      },
      "execution_count": 14,
      "outputs": []
    },
    {
      "cell_type": "code",
      "source": [
        "mean=np.repeat(0,p)\n",
        "x=np.random.multivariate_normal(mean, covmatrix, n)\n",
        "x"
      ],
      "metadata": {
        "colab": {
          "base_uri": "https://localhost:8080/"
        },
        "id": "fvM0Sjj4g80M",
        "outputId": "4ee916c6-61ad-4a1d-8b82-6a2d93105424"
      },
      "execution_count": 28,
      "outputs": [
        {
          "output_type": "execute_result",
          "data": {
            "text/plain": [
              "array([[ 2.88729336,  0.80316313, -0.41524881, ...,  1.32213415,\n",
              "         0.72903952,  2.6398942 ],\n",
              "       [-0.843626  , -0.36221138,  0.47952234, ..., -0.2293461 ,\n",
              "        -0.27318404, -0.56604367],\n",
              "       [-0.54028423, -1.4848121 , -0.21003561, ..., -1.05410531,\n",
              "        -1.29121928, -0.42977967],\n",
              "       ...,\n",
              "       [-0.99860325, -1.84274387, -1.31339246, ..., -1.67215685,\n",
              "        -2.06903558, -2.00840499],\n",
              "       [-0.44740414, -0.49514121,  0.24558827, ..., -1.54173387,\n",
              "        -1.4315485 , -1.49528675],\n",
              "       [ 0.37340583,  0.83567285,  0.79098032, ...,  0.92157223,\n",
              "        -0.69660996, -1.01929631]])"
            ]
          },
          "metadata": {},
          "execution_count": 28
        }
      ]
    },
    {
      "cell_type": "code",
      "source": [
        "np.random.normal(size=n)"
      ],
      "metadata": {
        "id": "I_MZymrYCeju",
        "outputId": "2ed84651-21db-4b1c-8239-7b9465c293ef",
        "colab": {
          "base_uri": "https://localhost:8080/"
        }
      },
      "execution_count": 32,
      "outputs": [
        {
          "output_type": "execute_result",
          "data": {
            "text/plain": [
              "array([ 0.94541378,  0.29511991,  0.18447202, -0.28999345,  1.09290881,\n",
              "       -0.00362405,  0.16779117,  0.14363628,  0.47619124, -1.91902449,\n",
              "        0.15874576,  0.72555884,  0.53547866, -0.6925089 ,  0.14945869,\n",
              "       -0.15965248, -2.27840562,  0.513951  ,  0.2638001 ,  0.19900191,\n",
              "       -0.96815495,  0.13703134, -0.49666487,  0.39421579,  0.53448431,\n",
              "       -0.44153941,  0.98134388, -0.23444892, -1.20969103, -1.53585478,\n",
              "       -0.35960891, -1.67303685,  1.50819792,  0.62691475, -0.04455736,\n",
              "       -0.57997891, -0.46803739,  1.03837968,  0.29924852,  0.88370195,\n",
              "        1.83208923, -0.15341256,  1.03279529,  1.47905189,  0.22574509,\n",
              "       -0.71358965,  0.94840485, -2.2612572 ,  0.33288919,  0.78453125,\n",
              "        1.60743487, -0.14787125, -1.07360383, -0.83075931, -0.47301178,\n",
              "        0.87361021, -0.85776071,  2.38101925, -0.08521012,  0.12346401,\n",
              "       -1.06458649,  0.35157297,  1.30735635, -0.34125857,  0.27119146,\n",
              "        0.07556679, -0.46052889, -1.0010513 ,  0.01184201, -1.61258787,\n",
              "       -0.12051774,  2.55245681,  0.04061103, -1.64675157,  1.06870838,\n",
              "        0.47071644, -0.25712201,  0.00622323, -1.26784327, -1.94560715,\n",
              "       -1.5999922 , -0.67411047, -1.28157067,  0.29368931, -0.96959713,\n",
              "        0.83567942,  0.08160129,  1.29938698, -0.43918664, -0.91562582,\n",
              "       -0.35101394,  0.49686861, -0.47031476, -0.65024466, -1.38300122,\n",
              "        0.99287176, -0.20611579,  0.47051118,  1.02149783,  1.87882937])"
            ]
          },
          "metadata": {},
          "execution_count": 32
        }
      ]
    },
    {
      "cell_type": "markdown",
      "source": [
        "###여기서 부터 R과 결과가 다르게 나옵니다..... 수식은 똑같은데 파이썬과 계산하는 로직이 다른가 봅니다ㅠㅠ 모르겠습니다"
      ],
      "metadata": {
        "id": "RQ_CJNK4DIEU"
      }
    },
    {
      "cell_type": "code",
      "source": [
        "y=10*(pd.DataFrame(x[:,0:2]).apply(sum,axis=1))+pd.DataFrame(x[:,4:15]).apply(sum,axis=1)+np.random.normal(size=n)"
      ],
      "metadata": {
        "colab": {
          "base_uri": "https://localhost:8080/"
        },
        "id": "V9y5Z2bPfdB7",
        "outputId": "10aad37d-00fd-479d-9ff1-d71c8b1e7fc6"
      },
      "execution_count": 29,
      "outputs": [
        {
          "output_type": "execute_result",
          "data": {
            "text/plain": [
              "0     37.072145\n",
              "1      6.533208\n",
              "2    -24.682844\n",
              "3    -19.039234\n",
              "4      4.897653\n",
              "        ...    \n",
              "95   -69.425697\n",
              "96     1.143509\n",
              "97   -32.642925\n",
              "98   -18.528500\n",
              "99    16.719286\n",
              "Length: 100, dtype: float64"
            ]
          },
          "metadata": {},
          "execution_count": 29
        }
      ]
    },
    {
      "cell_type": "code",
      "source": [
        "x_train, x_test, y_train, y_test = train_test_split(x, y, test_size=0.33, random_state=80)"
      ],
      "metadata": {
        "id": "7UTUPhBjBxhm"
      },
      "execution_count": 25,
      "outputs": []
    },
    {
      "cell_type": "code",
      "source": [
        "from sklearn.linear_model import Lasso\n",
        "from sklearn.linear_model import Ridge\n",
        "from sklearn.linear_model import ElasticNet\n",
        "from sklearn.model_selection import cross_val_score\n",
        "from sklearn.metrics import mean_squared_error, r2_score, mean_absolute_error\n",
        "models = []\n",
        "models.append(('Lasso', Lasso()))\n",
        "models.append(('Ridge', Ridge()))  \n",
        "models.append(('ElasticNet', ElasticNet()))  \n",
        "param_grid=[{\n",
        "'alpha':[i/10 for i in range(1,11)]}]\n",
        "for name, model in models:\n",
        "  gs = GridSearchCV(\n",
        "      estimator  =model,\n",
        "      param_grid=param_grid,\n",
        "      verbose=True\n",
        "  )\n",
        "  gs.fit(x_train,y_train)\n",
        "  predict=gs.predict(x_test)\n",
        "  mse=mean_squared_error(predict, y_test)\n",
        "  msg = \"%s - MSE : %f\" % (name, mse)\n",
        "  print(msg)"
      ],
      "metadata": {
        "id": "WGNCB7nJB3fo",
        "outputId": "7c9d22f0-9df4-43c7-ed0e-f5ee3b516d06",
        "colab": {
          "base_uri": "https://localhost:8080/"
        }
      },
      "execution_count": 26,
      "outputs": [
        {
          "output_type": "stream",
          "name": "stdout",
          "text": [
            "Fitting 5 folds for each of 10 candidates, totalling 50 fits\n",
            "Lasso - MSE : 1.615070\n",
            "Fitting 5 folds for each of 10 candidates, totalling 50 fits\n",
            "Ridge - MSE : 3.794212\n",
            "Fitting 5 folds for each of 10 candidates, totalling 50 fits\n",
            "ElasticNet - MSE : 4.793855\n"
          ]
        }
      ]
    },
    {
      "cell_type": "markdown",
      "source": [
        "Lasso가 가장 좋다."
      ],
      "metadata": {
        "id": "QGDtPWspHpBz"
      }
    },
    {
      "cell_type": "markdown",
      "source": [
        "#another example"
      ],
      "metadata": {
        "id": "yIeALdykE710"
      }
    },
    {
      "cell_type": "code",
      "source": [
        "from sklearn import datasets\n",
        "data = datasets.load_boston()\n",
        "y=data.target\n",
        "np.random.rand(20)\n",
        "x = pd.DataFrame(data=data['data'],columns=data['feature_names'])\n",
        "x_train, x_test, y_train, y_test = train_test_split(x,y, test_size=0.25, random_state=99)"
      ],
      "metadata": {
        "colab": {
          "base_uri": "https://localhost:8080/"
        },
        "id": "EwFH8OI7E9dK",
        "outputId": "9ee24125-bddc-4fdf-bd74-1d7637dcd478"
      },
      "execution_count": 33,
      "outputs": [
        {
          "output_type": "stream",
          "name": "stderr",
          "text": [
            "/usr/local/lib/python3.7/dist-packages/sklearn/utils/deprecation.py:87: FutureWarning: Function load_boston is deprecated; `load_boston` is deprecated in 1.0 and will be removed in 1.2.\n",
            "\n",
            "    The Boston housing prices dataset has an ethical problem. You can refer to\n",
            "    the documentation of this function for further details.\n",
            "\n",
            "    The scikit-learn maintainers therefore strongly discourage the use of this\n",
            "    dataset unless the purpose of the code is to study and educate about\n",
            "    ethical issues in data science and machine learning.\n",
            "\n",
            "    In this special case, you can fetch the dataset from the original\n",
            "    source::\n",
            "\n",
            "        import pandas as pd\n",
            "        import numpy as np\n",
            "\n",
            "\n",
            "        data_url = \"http://lib.stat.cmu.edu/datasets/boston\"\n",
            "        raw_df = pd.read_csv(data_url, sep=\"\\s+\", skiprows=22, header=None)\n",
            "        data = np.hstack([raw_df.values[::2, :], raw_df.values[1::2, :2]])\n",
            "        target = raw_df.values[1::2, 2]\n",
            "\n",
            "    Alternative datasets include the California housing dataset (i.e.\n",
            "    :func:`~sklearn.datasets.fetch_california_housing`) and the Ames housing\n",
            "    dataset. You can load the datasets as follows::\n",
            "\n",
            "        from sklearn.datasets import fetch_california_housing\n",
            "        housing = fetch_california_housing()\n",
            "\n",
            "    for the California housing dataset and::\n",
            "\n",
            "        from sklearn.datasets import fetch_openml\n",
            "        housing = fetch_openml(name=\"house_prices\", as_frame=True)\n",
            "\n",
            "    for the Ames housing dataset.\n",
            "    \n",
            "  warnings.warn(msg, category=FutureWarning)\n"
          ]
        }
      ]
    },
    {
      "cell_type": "code",
      "source": [
        "#Correlation HeatMap \n",
        "import matplotlib.pyplot as plt\n",
        "import seaborn as sns\n",
        "\n",
        "colormap = plt.cm.PuBu\n",
        "sns.set(font_scale=1.0)\n",
        "\n",
        "f , ax = plt.subplots(figsize = (14,12))\n",
        "plt.title('corr map',y=1,size=18)\n",
        "sns.heatmap(pd.DataFrame(x_train).corr(),square = True, linewidths = 0.1,\n",
        "            cmap = colormap, linecolor = \"white\", vmax=0.8)"
      ],
      "metadata": {
        "id": "kaYp9UZ8Fn-k",
        "colab": {
          "base_uri": "https://localhost:8080/",
          "height": 714
        },
        "outputId": "877bfb56-44e6-4bf4-97b2-18504c2a0046"
      },
      "execution_count": 34,
      "outputs": [
        {
          "output_type": "execute_result",
          "data": {
            "text/plain": [
              "<matplotlib.axes._subplots.AxesSubplot at 0x7f4293403450>"
            ]
          },
          "metadata": {},
          "execution_count": 34
        },
        {
          "output_type": "display_data",
          "data": {
            "text/plain": [
              "<Figure size 1008x864 with 2 Axes>"
            ],
            "image/png": "[encoded data removed]"
          },
          "metadata": {}
        }
      ]
    },
    {
      "cell_type": "code",
      "source": [
        "from sklearn.linear_model import LinearRegression\n",
        "model = LinearRegression()\n",
        "model.fit(x, y)\n",
        "print('기울기 a : ', model.coef_)\n",
        "print('y절편 b : ', model.intercept_)\n",
        "print('\\n')"
      ],
      "metadata": {
        "id": "oaj4KbcWwnz7",
        "colab": {
          "base_uri": "https://localhost:8080/"
        },
        "outputId": "d04d9a27-151c-43e8-b9b7-24ba25f73042"
      },
      "execution_count": 58,
      "outputs": [
        {
          "output_type": "stream",
          "name": "stdout",
          "text": [
            "기울기 a :  [-1.08011358e-01  4.64204584e-02  2.05586264e-02  2.68673382e+00\n",
            " -1.77666112e+01  3.80986521e+00  6.92224640e-04 -1.47556685e+00\n",
            "  3.06049479e-01 -1.23345939e-02 -9.52747232e-01  9.31168327e-03\n",
            " -5.24758378e-01]\n",
            "y절편 b :  36.459488385090125\n",
            "\n",
            "\n"
          ]
        }
      ]
    },
    {
      "cell_type": "markdown",
      "source": [
        "###ridge regression"
      ],
      "metadata": {
        "id": "lJFe2kZ-4R9E"
      }
    },
    {
      "cell_type": "code",
      "source": [
        "param_val = [1.0, 0.1, 0.03, 0.01, 0.003, 0.001, 0.0003, 0.0001, 0.00003, 0.00001]"
      ],
      "metadata": {
        "id": "JJmzPU-KnG_x"
      },
      "execution_count": 59,
      "outputs": []
    },
    {
      "cell_type": "code",
      "source": [
        "np.random.rand(5)\n",
        "from sklearn.linear_model import Ridge\n",
        "from sklearn.metrics import mean_squared_error, explained_variance_score\n",
        "for i in param_val:\n",
        "    # Creat a model\n",
        "    ridge_model = Ridge(alpha = i).fit(x_train, y_train)\n",
        "    print('Score = ', ridge_model.score(x_train, y_train),' @ Hyperparameter = ', i)\n",
        "    predictions = ridge_model.predict(x_test)\n",
        "    print('Mean Absolute Error(MAE): ', mean_absolute_error(y_test, predictions))\n",
        "    print('Mean Squared Error(MSE): ', mean_squared_error(y_test, predictions))\n",
        "    print('Root Mean Squared Error(RMSE): ', np.sqrt(mean_squared_error(y_test, predictions)))\n",
        "    print('Explained Variance Score(EVS): ', explained_variance_score(y_test, predictions))\n",
        "    print('R2_Score: ', r2_score(y_test, predictions))\n",
        "    print('---'*20)\n",
        "\n",
        "    ##hyperparamter 0.00001일때 가장 좋은 성능"
      ],
      "metadata": {
        "id": "lJdoK1XV4n_q",
        "outputId": "9d9fe705-c8f7-4385-c33b-eb8bc04c0bc6",
        "colab": {
          "base_uri": "https://localhost:8080/"
        }
      },
      "execution_count": 60,
      "outputs": [
        {
          "output_type": "stream",
          "name": "stdout",
          "text": [
            "Score =  0.7545266527261585  @ Hyperparameter =  1.0\n",
            "Mean Absolute Error(MAE):  3.596907242965403\n",
            "Mean Squared Error(MSE):  29.51891319871306\n",
            "Root Mean Squared Error(RMSE):  5.4331310676913604\n",
            "Explained Variance Score(EVS):  0.6820077704836506\n",
            "R2_Score:  0.6781725588317111\n",
            "------------------------------------------------------------\n",
            "Score =  0.7561366623785859  @ Hyperparameter =  0.1\n",
            "Mean Absolute Error(MAE):  3.548641182426501\n",
            "Mean Squared Error(MSE):  28.818620202248105\n",
            "Root Mean Squared Error(RMSE):  5.368297700598217\n",
            "Explained Variance Score(EVS):  0.6894995700709945\n",
            "R2_Score:  0.6858074436800535\n",
            "------------------------------------------------------------\n",
            "Score =  0.7561799334289486  @ Hyperparameter =  0.03\n",
            "Mean Absolute Error(MAE):  3.543852605653928\n",
            "Mean Squared Error(MSE):  28.737143002853202\n",
            "Root Mean Squared Error(RMSE):  5.360703592146576\n",
            "Explained Variance Score(EVS):  0.6903708850427674\n",
            "R2_Score:  0.6866957419184847\n",
            "------------------------------------------------------------\n",
            "Score =  0.7561842247355903  @ Hyperparameter =  0.01\n",
            "Mean Absolute Error(MAE):  3.542407716770355\n",
            "Mean Squared Error(MSE):  28.712889634455767\n",
            "Root Mean Squared Error(RMSE):  5.358440970511457\n",
            "Explained Variance Score(EVS):  0.6906301738258476\n",
            "R2_Score:  0.6869601622051842\n",
            "------------------------------------------------------------\n",
            "Score =  0.7561847310456213  @ Hyperparameter =  0.003\n",
            "Mean Absolute Error(MAE):  3.5418908446669928\n",
            "Mean Squared Error(MSE):  28.704296760218003\n",
            "Root Mean Squared Error(RMSE):  5.357639103207494\n",
            "Explained Variance Score(EVS):  0.6907220292341512\n",
            "R2_Score:  0.687053845285913\n",
            "------------------------------------------------------------\n",
            "Score =  0.7561847761209168  @ Hyperparameter =  0.001\n",
            "Mean Absolute Error(MAE):  3.541742077735075\n",
            "Mean Squared Error(MSE):  28.701831686768294\n",
            "Root Mean Squared Error(RMSE):  5.357409046056526\n",
            "Explained Variance Score(EVS):  0.69074837920976\n",
            "R2_Score:  0.6870807205395942\n",
            "------------------------------------------------------------\n",
            "Score =  0.7561847812672702  @ Hyperparameter =  0.0003\n",
            "Mean Absolute Error(MAE):  3.5416898939993846\n",
            "Mean Squared Error(MSE):  28.700967863201495\n",
            "Root Mean Squared Error(RMSE):  5.357328425922896\n",
            "Explained Variance Score(EVS):  0.6907576127988035\n",
            "R2_Score:  0.6870901383025807\n",
            "------------------------------------------------------------\n",
            "Score =  0.75618478172027  @ Hyperparameter =  0.0001\n",
            "Mean Absolute Error(MAE):  3.5416749733516295\n",
            "Mean Squared Error(MSE):  28.70072095663428\n",
            "Root Mean Squared Error(RMSE):  5.357305382058622\n",
            "Explained Variance Score(EVS):  0.6907602520243508\n",
            "R2_Score:  0.6870928301804353\n",
            "------------------------------------------------------------\n",
            "Score =  0.7561847817718179  @ Hyperparameter =  3e-05\n",
            "Mean Absolute Error(MAE):  3.541669749968016\n",
            "Mean Squared Error(MSE):  28.700634528851896\n",
            "Root Mean Squared Error(RMSE):  5.357297315704244\n",
            "Explained Variance Score(EVS):  0.6907611758643151\n",
            "R2_Score:  0.6870937724519839\n",
            "------------------------------------------------------------\n",
            "Score =  0.7561847817763502  @ Hyperparameter =  1e-05\n",
            "Mean Absolute Error(MAE):  3.5416682574624887\n",
            "Mean Squared Error(MSE):  28.700609834201273\n",
            "Root Mean Squared Error(RMSE):  5.3572950109361415\n",
            "Explained Variance Score(EVS):  0.6907614398291646\n",
            "R2_Score:  0.6870940416833126\n",
            "------------------------------------------------------------\n"
          ]
        }
      ]
    },
    {
      "cell_type": "markdown",
      "source": [
        "##Lasso regression"
      ],
      "metadata": {
        "id": "n-xSM30E5mqA"
      }
    },
    {
      "cell_type": "code",
      "source": [
        "np.random.rand(5)\n",
        "from sklearn.linear_model import Lasso\n",
        "from sklearn.metrics import mean_squared_error, explained_variance_score\n",
        "for i in param_val:\n",
        "    # Creat a model\n",
        "    lasso_model = Lasso(alpha = i).fit(x_train, y_train)\n",
        "    print('Score = ', lasso_model.score(x_train, y_train),' @ Hyperparameter = ', i)\n",
        "    predictions = lasso_model.predict(x_test)\n",
        "    print('Mean Absolute Error(MAE): ', mean_absolute_error(y_test, predictions))\n",
        "    print('Mean Squared Error(MSE): ', mean_squared_error(y_test, predictions))\n",
        "    print('Root Mean Squared Error(RMSE): ', np.sqrt(mean_squared_error(y_test, predictions)))\n",
        "    print('Explained Variance Score(EVS): ', explained_variance_score(y_test, predictions))\n",
        "    print('R2_Score: ', r2_score(y_test, predictions))\n",
        "    print('---'*20)\n",
        "\n",
        "    ##hyperparamter 0.00001일때 가장 좋은 성능"
      ],
      "metadata": {
        "id": "pZ2bYclK5Bzt",
        "outputId": "5f639d51-c510-48ed-f31c-3af6deaa6edf",
        "colab": {
          "base_uri": "https://localhost:8080/"
        }
      },
      "execution_count": 61,
      "outputs": [
        {
          "output_type": "stream",
          "name": "stdout",
          "text": [
            "Score =  0.7040415689758606  @ Hyperparameter =  1.0\n",
            "Mean Absolute Error(MAE):  3.8849845485862398\n",
            "Mean Squared Error(MSE):  34.90249358834363\n",
            "Root Mean Squared Error(RMSE):  5.907833239720264\n",
            "Explained Variance Score(EVS):  0.6266988172987074\n",
            "R2_Score:  0.619478531397323\n",
            "------------------------------------------------------------\n",
            "Score =  0.7457699396133288  @ Hyperparameter =  0.1\n",
            "Mean Absolute Error(MAE):  3.692671661185504\n",
            "Mean Squared Error(MSE):  31.357719304199325\n",
            "Root Mean Squared Error(RMSE):  5.599796362743857\n",
            "Explained Variance Score(EVS):  0.6633215558109575\n",
            "R2_Score:  0.6581251316195511\n",
            "------------------------------------------------------------\n",
            "Score =  0.752350083849513  @ Hyperparameter =  0.03\n",
            "Mean Absolute Error(MAE):  3.6301432809934906\n",
            "Mean Squared Error(MSE):  30.08496337694451\n",
            "Root Mean Squared Error(RMSE):  5.4849761509914075\n",
            "Explained Variance Score(EVS):  0.6761977585195618\n",
            "R2_Score:  0.6720012448945495\n",
            "------------------------------------------------------------\n",
            "Score =  0.7557526334763482  @ Hyperparameter =  0.01\n",
            "Mean Absolute Error(MAE):  3.567279717916612\n",
            "Mean Squared Error(MSE):  29.098311319510387\n",
            "Root Mean Squared Error(RMSE):  5.394285061016927\n",
            "Explained Variance Score(EVS):  0.6865891134674824\n",
            "R2_Score:  0.6827581350561187\n",
            "------------------------------------------------------------\n",
            "Score =  0.7561457505083645  @ Hyperparameter =  0.003\n",
            "Mean Absolute Error(MAE):  3.5479097068234906\n",
            "Mean Squared Error(MSE):  28.813204481198014\n",
            "Root Mean Squared Error(RMSE):  5.367793259915849\n",
            "Explained Variance Score(EVS):  0.6895823592833829\n",
            "R2_Score:  0.6858664881183058\n",
            "------------------------------------------------------------\n",
            "Score =  0.7561804436807968  @ Hyperparameter =  0.001\n",
            "Mean Absolute Error(MAE):  3.543749433250114\n",
            "Mean Squared Error(MSE):  28.737495826397467\n",
            "Root Mean Squared Error(RMSE):  5.360736500369839\n",
            "Explained Variance Score(EVS):  0.6903754182267741\n",
            "R2_Score:  0.6866918952897938\n",
            "------------------------------------------------------------\n",
            "Score =  0.7561843915533958  @ Hyperparameter =  0.0003\n",
            "Mean Absolute Error(MAE):  3.542291939142907\n",
            "Mean Squared Error(MSE):  28.711595208040386\n",
            "Root Mean Squared Error(RMSE):  5.358320185285719\n",
            "Explained Variance Score(EVS):  0.6906465010754408\n",
            "R2_Score:  0.6869742745791133\n",
            "------------------------------------------------------------\n",
            "Score =  0.7561847384257009  @ Hyperparameter =  0.0001\n",
            "Mean Absolute Error(MAE):  3.54187560760274\n",
            "Mean Squared Error(MSE):  28.704256505578797\n",
            "Root Mean Squared Error(RMSE):  5.357635346454516\n",
            "Explained Variance Score(EVS):  0.6907232895951798\n",
            "R2_Score:  0.687054284158694\n",
            "------------------------------------------------------------\n",
            "Score =  0.7561847778740065  @ Hyperparameter =  3e-05\n",
            "Mean Absolute Error(MAE):  3.5417299331955334\n",
            "Mean Squared Error(MSE):  28.701694691476188\n",
            "Root Mean Squared Error(RMSE):  5.357396260449304\n",
            "Explained Variance Score(EVS):  0.6907500927796577\n",
            "R2_Score:  0.6870822141191177\n",
            "------------------------------------------------------------\n",
            "Score =  0.756184781343137  @ Hyperparameter =  1e-05\n",
            "Mean Absolute Error(MAE):  3.541688327704287\n",
            "Mean Squared Error(MSE):  28.700963243835012\n",
            "Root Mean Squared Error(RMSE):  5.3573279947969406\n",
            "Explained Variance Score(EVS):  0.6907577452697401\n",
            "R2_Score:  0.687090188664831\n",
            "------------------------------------------------------------\n"
          ]
        }
      ]
    },
    {
      "cell_type": "markdown",
      "source": [
        "##Elastic Net"
      ],
      "metadata": {
        "id": "zp1G_TLZ6Fve"
      }
    },
    {
      "cell_type": "code",
      "source": [
        "np.random.rand(5)\n",
        "from sklearn.linear_model import ElasticNet\n",
        "from sklearn.metrics import mean_squared_error, explained_variance_score\n",
        "for i in param_val:\n",
        "    # Creat a model\n",
        "    elastic_model = ElasticNet(alpha = i).fit(x_train, y_train)\n",
        "    print('Score = ', elastic_model.score(x_train, y_train),' @ Hyperparameter = ', i)\n",
        "    predictions = elastic_model.predict(x_test)\n",
        "    print('Mean Absolute Error(MAE): ', mean_absolute_error(y_test, predictions))\n",
        "    print('Mean Squared Error(MSE): ', mean_squared_error(y_test, predictions))\n",
        "    print('Root Mean Squared Error(RMSE): ', np.sqrt(mean_squared_error(y_test, predictions)))\n",
        "    print('Explained Variance Score(EVS): ', explained_variance_score(y_test, predictions))\n",
        "    print('R2_Score: ', r2_score(y_test, predictions))\n",
        "    print('---'*20)\n",
        "\n",
        "    ##hyperparamter 0.00001일때 가장 좋은 성능"
      ],
      "metadata": {
        "id": "PW0m6mgR53ez",
        "outputId": "52d897d9-0e10-4317-f8e5-0310488ab65f",
        "colab": {
          "base_uri": "https://localhost:8080/"
        }
      },
      "execution_count": 62,
      "outputs": [
        {
          "output_type": "stream",
          "name": "stdout",
          "text": [
            "Score =  0.7088829696275678  @ Hyperparameter =  1.0\n",
            "Mean Absolute Error(MAE):  3.8645976442232723\n",
            "Mean Squared Error(MSE):  34.52652328232417\n",
            "Root Mean Squared Error(RMSE):  5.875927440185436\n",
            "Explained Variance Score(EVS):  0.6303656737369002\n",
            "R2_Score:  0.6235775156901043\n",
            "------------------------------------------------------------\n",
            "Score =  0.7452057406835761  @ Hyperparameter =  0.1\n",
            "Mean Absolute Error(MAE):  3.716105829084591\n",
            "Mean Squared Error(MSE):  31.55972184984037\n",
            "Root Mean Squared Error(RMSE):  5.617804006000954\n",
            "Explained Variance Score(EVS):  0.6608194089051698\n",
            "R2_Score:  0.6559228160418904\n",
            "------------------------------------------------------------\n",
            "Score =  0.7495584148321892  @ Hyperparameter =  0.03\n",
            "Mean Absolute Error(MAE):  3.670412637534856\n",
            "Mean Squared Error(MSE):  30.70534993157904\n",
            "Root Mean Squared Error(RMSE):  5.541240829595754\n",
            "Explained Variance Score(EVS):  0.6695390662184448\n",
            "R2_Score:  0.6652375332338524\n",
            "------------------------------------------------------------\n",
            "Score =  0.7527157867935208  @ Hyperparameter =  0.01\n",
            "Mean Absolute Error(MAE):  3.6281047268076\n",
            "Mean Squared Error(MSE):  29.995490125531905\n",
            "Root Mean Squared Error(RMSE):  5.476813866248506\n",
            "Explained Variance Score(EVS):  0.6769635581877032\n",
            "R2_Score:  0.6729767194102028\n",
            "------------------------------------------------------------\n",
            "Score =  0.7552275375645103  @ Hyperparameter =  0.003\n",
            "Mean Absolute Error(MAE):  3.582370936194488\n",
            "Mean Squared Error(MSE):  29.296595524852467\n",
            "Root Mean Squared Error(RMSE):  5.412632956782907\n",
            "Explained Variance Score(EVS):  0.6843967550122623\n",
            "R2_Score:  0.6805963583673986\n",
            "------------------------------------------------------------\n",
            "Score =  0.7560114777961369  @ Hyperparameter =  0.001\n",
            "Mean Absolute Error(MAE):  3.5564768325102287\n",
            "Mean Squared Error(MSE):  28.93314512476155\n",
            "Root Mean Squared Error(RMSE):  5.378953906175582\n",
            "Explained Variance Score(EVS):  0.6882784686535977\n",
            "R2_Score:  0.6845588454503564\n",
            "------------------------------------------------------------\n",
            "Score =  0.7561656486125299  @ Hyperparameter =  0.0003\n",
            "Mean Absolute Error(MAE):  3.5460200560347976\n",
            "Mean Squared Error(MSE):  28.77446534928944\n",
            "Root Mean Squared Error(RMSE):  5.364183567821803\n",
            "Explained Variance Score(EVS):  0.6899730458615962\n",
            "R2_Score:  0.686288838209967\n",
            "------------------------------------------------------------\n",
            "Score =  0.756182518955067  @ Hyperparameter =  0.0001\n",
            "Mean Absolute Error(MAE):  3.5431625597375653\n",
            "Mean Squared Error(MSE):  28.72562221507808\n",
            "Root Mean Squared Error(RMSE):  5.359628925128873\n",
            "Explained Variance Score(EVS):  0.6904944714317334\n",
            "R2_Score:  0.6868213463275954\n",
            "------------------------------------------------------------\n",
            "Score =  0.7561845735226943  @ Hyperparameter =  3e-05\n",
            "Mean Absolute Error(MAE):  3.5421208778061244\n",
            "Mean Squared Error(MSE):  28.708147430273204\n",
            "Root Mean Squared Error(RMSE):  5.357998453739344\n",
            "Explained Variance Score(EVS):  0.6906809919004897\n",
            "R2_Score:  0.6870118636830569\n",
            "------------------------------------------------------------\n",
            "Score =  0.756184758488041  @ Hyperparameter =  1e-05\n",
            "Mean Absolute Error(MAE):  3.5418191069572726\n",
            "Mean Squared Error(MSE):  28.703118222529277\n",
            "Root Mean Squared Error(RMSE):  5.357529115415919\n",
            "Explained Variance Score(EVS):  0.6907346686225886\n",
            "R2_Score:  0.6870666941928536\n",
            "------------------------------------------------------------\n"
          ]
        }
      ]
    },
    {
      "cell_type": "markdown",
      "source": [
        "###결론 : 아주 근소한 소수점 5번째수 자리 차이로 Ridge가 가장 성능이 좋다."
      ],
      "metadata": {
        "id": "C1jzJcle6Ujs"
      }
    }
  ]
}