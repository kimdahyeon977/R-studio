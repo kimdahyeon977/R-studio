{
  "nbformat": 4,
  "nbformat_minor": 0,
  "metadata": {
    "colab": {
      "name": "기계학습과제 5.ipynb",
      "provenance": [],
      "collapsed_sections": [],
      "authorship_tag": "ABX9TyPd+18ZB1Jvq0NvW61i9zj4",
      "include_colab_link": true
    },
    "kernelspec": {
      "name": "python3",
      "display_name": "Python 3"
    },
    "language_info": {
      "name": "python"
    }
  },
  "cells": [
    {
      "cell_type": "markdown",
      "metadata": {
        "id": "view-in-github",
        "colab_type": "text"
      },
      "source": [
        "<a href=\"https://colab.research.google.com/github/kimdahyeon977/R-studio/blob/master/%EA%B8%B0%EA%B3%84%ED%95%99%EC%8A%B5%EA%B3%BC%EC%A0%9C_5.ipynb\" target=\"_parent\"><img src=\"https://colab.research.google.com/assets/colab-badge.svg\" alt=\"Open In Colab\"/></a>"
      ]
    },
    {
      "cell_type": "code",
      "execution_count": 1,
      "metadata": {
        "id": "nVctuD9pEhF8"
      },
      "outputs": [],
      "source": [
        "import numpy as np\n",
        "import random\n",
        "import tensorflow as tf\n",
        "import matplotlib.pyplot as plt\n",
        "from sklearn.datasets import load_digits\n",
        "from sklearn.neural_network import MLPClassifier"
      ]
    },
    {
      "cell_type": "markdown",
      "source": [
        "#데이터 읽어온후 split하기"
      ],
      "metadata": {
        "id": "vHOjtDS8FTda"
      }
    },
    {
      "cell_type": "code",
      "source": [
        "np.random.seed(109)\n",
        "digits = load_digits()\n",
        "X_train=digits.data[:1601]\n",
        "y_train=digits.target[:1601]\n",
        "\n",
        "X_test=digits.data[1601:]\n",
        "y_test=digits.target[1601:]"
      ],
      "metadata": {
        "id": "_jzxSrpoFNTG"
      },
      "execution_count": 2,
      "outputs": []
    },
    {
      "cell_type": "code",
      "source": [
        "plt.hist(digits.target)"
      ],
      "metadata": {
        "colab": {
          "base_uri": "https://localhost:8080/",
          "height": 317
        },
        "id": "8Yw0f28HK2vM",
        "outputId": "009507d3-51a1-47b5-b93c-54a5f59274cd"
      },
      "execution_count": 3,
      "outputs": [
        {
          "output_type": "execute_result",
          "data": {
            "text/plain": [
              "(array([178., 182., 177., 183., 181., 182., 181., 179., 174., 180.]),\n",
              " array([0. , 0.9, 1.8, 2.7, 3.6, 4.5, 5.4, 6.3, 7.2, 8.1, 9. ]),\n",
              " <a list of 10 Patch objects>)"
            ]
          },
          "metadata": {},
          "execution_count": 3
        },
        {
          "output_type": "display_data",
          "data": {
            "text/plain": [
              "<Figure size 432x288 with 1 Axes>"
            ],
            "image/png": "[encoded data removed]"
          },
          "metadata": {
            "needs_background": "light"
          }
        }
      ]
    },
    {
      "cell_type": "markdown",
      "source": [
        "###(1) MLPCLassifier"
      ],
      "metadata": {
        "id": "B_hOmVtdGELP"
      }
    },
    {
      "cell_type": "code",
      "source": [
        "clf=MLPClassifier(hidden_layer_sizes=(100,100))\n",
        "clf.fit(X_train,y_train)"
      ],
      "metadata": {
        "colab": {
          "base_uri": "https://localhost:8080/"
        },
        "id": "cWrhv3fpFr3R",
        "outputId": "6811655f-8415-4c93-d265-ea539862a0a1"
      },
      "execution_count": 4,
      "outputs": [
        {
          "output_type": "execute_result",
          "data": {
            "text/plain": [
              "MLPClassifier(hidden_layer_sizes=(100, 100))"
            ]
          },
          "metadata": {},
          "execution_count": 4
        }
      ]
    },
    {
      "cell_type": "code",
      "source": [
        "from sklearn.metrics import accuracy_score\n",
        "result=clf.predict(X_test)\n",
        "print(accuracy_score(result,y_test))"
      ],
      "metadata": {
        "colab": {
          "base_uri": "https://localhost:8080/"
        },
        "id": "GQMZrdquGy45",
        "outputId": "aba6c374-087c-43f6-fb85-3711b8372f56"
      },
      "execution_count": 5,
      "outputs": [
        {
          "output_type": "stream",
          "name": "stdout",
          "text": [
            "0.9285714285714286\n"
          ]
        }
      ]
    },
    {
      "cell_type": "markdown",
      "source": [
        "###결과"
      ],
      "metadata": {
        "id": "ZWDgtuCRIURN"
      }
    },
    {
      "cell_type": "code",
      "source": [
        "from sklearn.metrics import classification_report\n",
        "\n",
        "print(classification_report(result, y_test))"
      ],
      "metadata": {
        "colab": {
          "base_uri": "https://localhost:8080/"
        },
        "id": "Sg9ozkv2IKcy",
        "outputId": "9be566c2-fc8e-4622-d8af-ab8fb4d6bcbd"
      },
      "execution_count": 6,
      "outputs": [
        {
          "output_type": "stream",
          "name": "stdout",
          "text": [
            "              precision    recall  f1-score   support\n",
            "\n",
            "           0       1.00      1.00      1.00        17\n",
            "           1       0.95      0.86      0.90        22\n",
            "           2       0.94      0.94      0.94        17\n",
            "           3       0.73      1.00      0.84        16\n",
            "           4       0.86      1.00      0.93        19\n",
            "           5       1.00      0.86      0.93        22\n",
            "           6       1.00      1.00      1.00        22\n",
            "           7       1.00      0.95      0.98        21\n",
            "           8       0.88      0.75      0.81        20\n",
            "           9       0.95      0.95      0.95        20\n",
            "\n",
            "    accuracy                           0.93       196\n",
            "   macro avg       0.93      0.93      0.93       196\n",
            "weighted avg       0.94      0.93      0.93       196\n",
            "\n"
          ]
        }
      ]
    },
    {
      "cell_type": "markdown",
      "source": [
        "###(2) 다층 퍼셉트론 분류 모델"
      ],
      "metadata": {
        "id": "WZt7nTXHJjRx"
      }
    },
    {
      "cell_type": "code",
      "source": [
        "X_train, X_test= X_train/255, X_test/255"
      ],
      "metadata": {
        "id": "tnklre8NIRFl"
      },
      "execution_count": 7,
      "outputs": []
    },
    {
      "cell_type": "code",
      "source": [
        "model = tf.keras.Sequential([\n",
        "        tf.keras.layers.Dense(256, activation = 'relu'),\n",
        "        tf.keras.layers.Dense(128, activation = 'relu'),\n",
        "        tf.keras.layers.Dense(10, activation = 'softmax')\n",
        "\n",
        "\n",
        "])\n",
        "opt = tf.keras.optimizers.Adam(lr = 0.01, beta_1 = 0.9, beta_2 = 0.999)"
      ],
      "metadata": {
        "colab": {
          "base_uri": "https://localhost:8080/"
        },
        "id": "tevZyMs5KCQ6",
        "outputId": "b8ccc600-682d-49b8-9a25-8e8a2c1410b6"
      },
      "execution_count": 18,
      "outputs": [
        {
          "output_type": "stream",
          "name": "stderr",
          "text": [
            "/usr/local/lib/python3.7/dist-packages/keras/optimizer_v2/adam.py:105: UserWarning: The `lr` argument is deprecated, use `learning_rate` instead.\n",
            "  super(Adam, self).__init__(name, **kwargs)\n"
          ]
        }
      ]
    },
    {
      "cell_type": "code",
      "source": [
        "model.compile(optimizer = opt,\n",
        "                       loss = 'sparse_categorical_crossentropy',\n",
        "                       metrics = ['accuracy', 'sparse_categorical_crossentropy'])"
      ],
      "metadata": {
        "id": "LLaXju8vKn2F"
      },
      "execution_count": 19,
      "outputs": []
    },
    {
      "cell_type": "code",
      "source": [
        "history = model.fit(X_train, y_train, epochs = 50, batch_size = 500, \n",
        "                              validation_data = (X_test, y_test), verbose = 2)"
      ],
      "metadata": {
        "colab": {
          "base_uri": "https://localhost:8080/"
        },
        "id": "rKzmi6aDWvOr",
        "outputId": "b6868a9d-c0d9-4278-8234-b1d12a499f1b"
      },
      "execution_count": 20,
      "outputs": [
        {
          "output_type": "stream",
          "name": "stdout",
          "text": [
            "Epoch 1/50\n",
            "4/4 - 1s - loss: 2.2625 - accuracy: 0.2961 - sparse_categorical_crossentropy: 2.2625 - val_loss: 2.1138 - val_accuracy: 0.5816 - val_sparse_categorical_crossentropy: 2.1138 - 657ms/epoch - 164ms/step\n",
            "Epoch 2/50\n",
            "4/4 - 0s - loss: 1.9964 - accuracy: 0.6021 - sparse_categorical_crossentropy: 1.9964 - val_loss: 1.7106 - val_accuracy: 0.6939 - val_sparse_categorical_crossentropy: 1.7106 - 50ms/epoch - 13ms/step\n",
            "Epoch 3/50\n",
            "4/4 - 0s - loss: 1.5072 - accuracy: 0.7570 - sparse_categorical_crossentropy: 1.5072 - val_loss: 1.2119 - val_accuracy: 0.7398 - val_sparse_categorical_crossentropy: 1.2119 - 53ms/epoch - 13ms/step\n",
            "Epoch 4/50\n",
            "4/4 - 0s - loss: 0.9680 - accuracy: 0.8095 - sparse_categorical_crossentropy: 0.9680 - val_loss: 0.8878 - val_accuracy: 0.8010 - val_sparse_categorical_crossentropy: 0.8878 - 51ms/epoch - 13ms/step\n",
            "Epoch 5/50\n",
            "4/4 - 0s - loss: 0.6190 - accuracy: 0.8620 - sparse_categorical_crossentropy: 0.6190 - val_loss: 0.7651 - val_accuracy: 0.7959 - val_sparse_categorical_crossentropy: 0.7651 - 55ms/epoch - 14ms/step\n",
            "Epoch 6/50\n",
            "4/4 - 0s - loss: 0.4532 - accuracy: 0.8713 - sparse_categorical_crossentropy: 0.4532 - val_loss: 0.7473 - val_accuracy: 0.8316 - val_sparse_categorical_crossentropy: 0.7473 - 73ms/epoch - 18ms/step\n",
            "Epoch 7/50\n",
            "4/4 - 0s - loss: 0.3636 - accuracy: 0.8976 - sparse_categorical_crossentropy: 0.3636 - val_loss: 0.5176 - val_accuracy: 0.8878 - val_sparse_categorical_crossentropy: 0.5176 - 51ms/epoch - 13ms/step\n",
            "Epoch 8/50\n",
            "4/4 - 0s - loss: 0.3136 - accuracy: 0.8994 - sparse_categorical_crossentropy: 0.3136 - val_loss: 0.5656 - val_accuracy: 0.8418 - val_sparse_categorical_crossentropy: 0.5656 - 55ms/epoch - 14ms/step\n",
            "Epoch 9/50\n",
            "4/4 - 0s - loss: 0.2524 - accuracy: 0.9225 - sparse_categorical_crossentropy: 0.2524 - val_loss: 0.5309 - val_accuracy: 0.8827 - val_sparse_categorical_crossentropy: 0.5309 - 53ms/epoch - 13ms/step\n",
            "Epoch 10/50\n",
            "4/4 - 0s - loss: 0.2191 - accuracy: 0.9319 - sparse_categorical_crossentropy: 0.2191 - val_loss: 0.4763 - val_accuracy: 0.8980 - val_sparse_categorical_crossentropy: 0.4763 - 53ms/epoch - 13ms/step\n",
            "Epoch 11/50\n",
            "4/4 - 0s - loss: 0.2009 - accuracy: 0.9300 - sparse_categorical_crossentropy: 0.2009 - val_loss: 0.4641 - val_accuracy: 0.8980 - val_sparse_categorical_crossentropy: 0.4641 - 51ms/epoch - 13ms/step\n",
            "Epoch 12/50\n",
            "4/4 - 0s - loss: 0.1676 - accuracy: 0.9532 - sparse_categorical_crossentropy: 0.1676 - val_loss: 0.4607 - val_accuracy: 0.8929 - val_sparse_categorical_crossentropy: 0.4607 - 47ms/epoch - 12ms/step\n",
            "Epoch 13/50\n",
            "4/4 - 0s - loss: 0.1553 - accuracy: 0.9500 - sparse_categorical_crossentropy: 0.1553 - val_loss: 0.4558 - val_accuracy: 0.8929 - val_sparse_categorical_crossentropy: 0.4558 - 51ms/epoch - 13ms/step\n",
            "Epoch 14/50\n",
            "4/4 - 0s - loss: 0.1400 - accuracy: 0.9613 - sparse_categorical_crossentropy: 0.1400 - val_loss: 0.4134 - val_accuracy: 0.9133 - val_sparse_categorical_crossentropy: 0.4134 - 55ms/epoch - 14ms/step\n",
            "Epoch 15/50\n",
            "4/4 - 0s - loss: 0.1278 - accuracy: 0.9582 - sparse_categorical_crossentropy: 0.1278 - val_loss: 0.4168 - val_accuracy: 0.9031 - val_sparse_categorical_crossentropy: 0.4168 - 48ms/epoch - 12ms/step\n",
            "Epoch 16/50\n",
            "4/4 - 0s - loss: 0.1166 - accuracy: 0.9663 - sparse_categorical_crossentropy: 0.1166 - val_loss: 0.4561 - val_accuracy: 0.8980 - val_sparse_categorical_crossentropy: 0.4561 - 51ms/epoch - 13ms/step\n",
            "Epoch 17/50\n",
            "4/4 - 0s - loss: 0.1121 - accuracy: 0.9644 - sparse_categorical_crossentropy: 0.1121 - val_loss: 0.4645 - val_accuracy: 0.8980 - val_sparse_categorical_crossentropy: 0.4645 - 49ms/epoch - 12ms/step\n",
            "Epoch 18/50\n",
            "4/4 - 0s - loss: 0.1127 - accuracy: 0.9625 - sparse_categorical_crossentropy: 0.1127 - val_loss: 0.3943 - val_accuracy: 0.9184 - val_sparse_categorical_crossentropy: 0.3943 - 58ms/epoch - 15ms/step\n",
            "Epoch 19/50\n",
            "4/4 - 0s - loss: 0.0867 - accuracy: 0.9744 - sparse_categorical_crossentropy: 0.0867 - val_loss: 0.3983 - val_accuracy: 0.9235 - val_sparse_categorical_crossentropy: 0.3983 - 51ms/epoch - 13ms/step\n",
            "Epoch 20/50\n",
            "4/4 - 0s - loss: 0.0823 - accuracy: 0.9756 - sparse_categorical_crossentropy: 0.0823 - val_loss: 0.3572 - val_accuracy: 0.9235 - val_sparse_categorical_crossentropy: 0.3572 - 50ms/epoch - 12ms/step\n",
            "Epoch 21/50\n",
            "4/4 - 0s - loss: 0.0778 - accuracy: 0.9763 - sparse_categorical_crossentropy: 0.0778 - val_loss: 0.4592 - val_accuracy: 0.9133 - val_sparse_categorical_crossentropy: 0.4592 - 50ms/epoch - 13ms/step\n",
            "Epoch 22/50\n",
            "4/4 - 0s - loss: 0.0767 - accuracy: 0.9756 - sparse_categorical_crossentropy: 0.0767 - val_loss: 0.3673 - val_accuracy: 0.9439 - val_sparse_categorical_crossentropy: 0.3673 - 50ms/epoch - 13ms/step\n",
            "Epoch 23/50\n",
            "4/4 - 0s - loss: 0.0684 - accuracy: 0.9825 - sparse_categorical_crossentropy: 0.0684 - val_loss: 0.3996 - val_accuracy: 0.9133 - val_sparse_categorical_crossentropy: 0.3996 - 48ms/epoch - 12ms/step\n",
            "Epoch 24/50\n",
            "4/4 - 0s - loss: 0.0669 - accuracy: 0.9813 - sparse_categorical_crossentropy: 0.0669 - val_loss: 0.4015 - val_accuracy: 0.9082 - val_sparse_categorical_crossentropy: 0.4015 - 51ms/epoch - 13ms/step\n",
            "Epoch 25/50\n",
            "4/4 - 0s - loss: 0.0697 - accuracy: 0.9744 - sparse_categorical_crossentropy: 0.0697 - val_loss: 0.4320 - val_accuracy: 0.9133 - val_sparse_categorical_crossentropy: 0.4320 - 54ms/epoch - 14ms/step\n",
            "Epoch 26/50\n",
            "4/4 - 0s - loss: 0.0724 - accuracy: 0.9756 - sparse_categorical_crossentropy: 0.0724 - val_loss: 0.4091 - val_accuracy: 0.8929 - val_sparse_categorical_crossentropy: 0.4091 - 47ms/epoch - 12ms/step\n",
            "Epoch 27/50\n",
            "4/4 - 0s - loss: 0.0602 - accuracy: 0.9838 - sparse_categorical_crossentropy: 0.0602 - val_loss: 0.4385 - val_accuracy: 0.9133 - val_sparse_categorical_crossentropy: 0.4385 - 49ms/epoch - 12ms/step\n",
            "Epoch 28/50\n",
            "4/4 - 0s - loss: 0.0609 - accuracy: 0.9788 - sparse_categorical_crossentropy: 0.0609 - val_loss: 0.4271 - val_accuracy: 0.9133 - val_sparse_categorical_crossentropy: 0.4271 - 47ms/epoch - 12ms/step\n",
            "Epoch 29/50\n",
            "4/4 - 0s - loss: 0.0605 - accuracy: 0.9838 - sparse_categorical_crossentropy: 0.0605 - val_loss: 0.4050 - val_accuracy: 0.9133 - val_sparse_categorical_crossentropy: 0.4050 - 54ms/epoch - 13ms/step\n",
            "Epoch 30/50\n",
            "4/4 - 0s - loss: 0.0599 - accuracy: 0.9806 - sparse_categorical_crossentropy: 0.0599 - val_loss: 0.3680 - val_accuracy: 0.9490 - val_sparse_categorical_crossentropy: 0.3680 - 49ms/epoch - 12ms/step\n",
            "Epoch 31/50\n",
            "4/4 - 0s - loss: 0.0632 - accuracy: 0.9825 - sparse_categorical_crossentropy: 0.0632 - val_loss: 0.4671 - val_accuracy: 0.9082 - val_sparse_categorical_crossentropy: 0.4671 - 51ms/epoch - 13ms/step\n",
            "Epoch 32/50\n",
            "4/4 - 0s - loss: 0.0625 - accuracy: 0.9769 - sparse_categorical_crossentropy: 0.0625 - val_loss: 0.4159 - val_accuracy: 0.9133 - val_sparse_categorical_crossentropy: 0.4159 - 48ms/epoch - 12ms/step\n",
            "Epoch 33/50\n",
            "4/4 - 0s - loss: 0.0508 - accuracy: 0.9863 - sparse_categorical_crossentropy: 0.0508 - val_loss: 0.3724 - val_accuracy: 0.9235 - val_sparse_categorical_crossentropy: 0.3724 - 49ms/epoch - 12ms/step\n",
            "Epoch 34/50\n",
            "4/4 - 0s - loss: 0.0428 - accuracy: 0.9875 - sparse_categorical_crossentropy: 0.0428 - val_loss: 0.4296 - val_accuracy: 0.9133 - val_sparse_categorical_crossentropy: 0.4296 - 48ms/epoch - 12ms/step\n",
            "Epoch 35/50\n",
            "4/4 - 0s - loss: 0.0366 - accuracy: 0.9906 - sparse_categorical_crossentropy: 0.0366 - val_loss: 0.4172 - val_accuracy: 0.9235 - val_sparse_categorical_crossentropy: 0.4172 - 49ms/epoch - 12ms/step\n",
            "Epoch 36/50\n",
            "4/4 - 0s - loss: 0.0351 - accuracy: 0.9900 - sparse_categorical_crossentropy: 0.0351 - val_loss: 0.4147 - val_accuracy: 0.9184 - val_sparse_categorical_crossentropy: 0.4147 - 58ms/epoch - 14ms/step\n",
            "Epoch 37/50\n",
            "4/4 - 0s - loss: 0.0352 - accuracy: 0.9906 - sparse_categorical_crossentropy: 0.0352 - val_loss: 0.4025 - val_accuracy: 0.9286 - val_sparse_categorical_crossentropy: 0.4025 - 53ms/epoch - 13ms/step\n",
            "Epoch 38/50\n",
            "4/4 - 0s - loss: 0.0314 - accuracy: 0.9931 - sparse_categorical_crossentropy: 0.0314 - val_loss: 0.4466 - val_accuracy: 0.9184 - val_sparse_categorical_crossentropy: 0.4466 - 52ms/epoch - 13ms/step\n",
            "Epoch 39/50\n",
            "4/4 - 0s - loss: 0.0317 - accuracy: 0.9944 - sparse_categorical_crossentropy: 0.0317 - val_loss: 0.4304 - val_accuracy: 0.9184 - val_sparse_categorical_crossentropy: 0.4304 - 48ms/epoch - 12ms/step\n",
            "Epoch 40/50\n",
            "4/4 - 0s - loss: 0.0300 - accuracy: 0.9938 - sparse_categorical_crossentropy: 0.0300 - val_loss: 0.4271 - val_accuracy: 0.9286 - val_sparse_categorical_crossentropy: 0.4271 - 48ms/epoch - 12ms/step\n",
            "Epoch 41/50\n",
            "4/4 - 0s - loss: 0.0290 - accuracy: 0.9931 - sparse_categorical_crossentropy: 0.0290 - val_loss: 0.5171 - val_accuracy: 0.9184 - val_sparse_categorical_crossentropy: 0.5171 - 52ms/epoch - 13ms/step\n",
            "Epoch 42/50\n",
            "4/4 - 0s - loss: 0.0269 - accuracy: 0.9925 - sparse_categorical_crossentropy: 0.0269 - val_loss: 0.4354 - val_accuracy: 0.9184 - val_sparse_categorical_crossentropy: 0.4354 - 50ms/epoch - 12ms/step\n",
            "Epoch 43/50\n",
            "4/4 - 0s - loss: 0.0244 - accuracy: 0.9950 - sparse_categorical_crossentropy: 0.0244 - val_loss: 0.4017 - val_accuracy: 0.9235 - val_sparse_categorical_crossentropy: 0.4017 - 54ms/epoch - 13ms/step\n",
            "Epoch 44/50\n",
            "4/4 - 0s - loss: 0.0236 - accuracy: 0.9956 - sparse_categorical_crossentropy: 0.0236 - val_loss: 0.4524 - val_accuracy: 0.9286 - val_sparse_categorical_crossentropy: 0.4524 - 48ms/epoch - 12ms/step\n",
            "Epoch 45/50\n",
            "4/4 - 0s - loss: 0.0212 - accuracy: 0.9969 - sparse_categorical_crossentropy: 0.0212 - val_loss: 0.4524 - val_accuracy: 0.9184 - val_sparse_categorical_crossentropy: 0.4524 - 53ms/epoch - 13ms/step\n",
            "Epoch 46/50\n",
            "4/4 - 0s - loss: 0.0213 - accuracy: 0.9963 - sparse_categorical_crossentropy: 0.0213 - val_loss: 0.4527 - val_accuracy: 0.9184 - val_sparse_categorical_crossentropy: 0.4527 - 49ms/epoch - 12ms/step\n",
            "Epoch 47/50\n",
            "4/4 - 0s - loss: 0.0187 - accuracy: 0.9981 - sparse_categorical_crossentropy: 0.0187 - val_loss: 0.4480 - val_accuracy: 0.9235 - val_sparse_categorical_crossentropy: 0.4480 - 47ms/epoch - 12ms/step\n",
            "Epoch 48/50\n",
            "4/4 - 0s - loss: 0.0180 - accuracy: 0.9975 - sparse_categorical_crossentropy: 0.0180 - val_loss: 0.4325 - val_accuracy: 0.9235 - val_sparse_categorical_crossentropy: 0.4325 - 56ms/epoch - 14ms/step\n",
            "Epoch 49/50\n",
            "4/4 - 0s - loss: 0.0175 - accuracy: 0.9975 - sparse_categorical_crossentropy: 0.0175 - val_loss: 0.4462 - val_accuracy: 0.9235 - val_sparse_categorical_crossentropy: 0.4462 - 49ms/epoch - 12ms/step\n",
            "Epoch 50/50\n",
            "4/4 - 0s - loss: 0.0174 - accuracy: 0.9963 - sparse_categorical_crossentropy: 0.0174 - val_loss: 0.4516 - val_accuracy: 0.9286 - val_sparse_categorical_crossentropy: 0.4516 - 50ms/epoch - 12ms/step\n"
          ]
        }
      ]
    },
    {
      "cell_type": "code",
      "source": [
        "scores = model.evaluate(X_test, y_test)\n",
        "print('\\naccuracy: ', scores[1])"
      ],
      "metadata": {
        "colab": {
          "base_uri": "https://localhost:8080/"
        },
        "id": "KUOx1HqVYYkL",
        "outputId": "faddf031-5b45-420c-d8f6-441d4b384734"
      },
      "execution_count": 21,
      "outputs": [
        {
          "output_type": "stream",
          "name": "stdout",
          "text": [
            "7/7 [==============================] - 0s 3ms/step - loss: 0.4516 - accuracy: 0.9286 - sparse_categorical_crossentropy: 0.4516\n",
            "\n",
            "accuracy:  0.9285714030265808\n"
          ]
        }
      ]
    },
    {
      "cell_type": "code",
      "source": [
        "epochs = [i for i in range(50)]\n",
        "fig , ax = plt.subplots(1,2)\n",
        "train_acc = history.history['accuracy']\n",
        "train_loss = history.history['loss']\n",
        "val_acc = history.history['val_accuracy']\n",
        "val_loss = history.history['val_loss']\n",
        "fig.set_size_inches(16,9)\n",
        "\n",
        "ax[0].plot(epochs , train_acc , 'go-' , label = 'Training Accuracy')\n",
        "ax[0].plot(epochs , val_acc , 'ro-' , label = 'Testing Accuracy')\n",
        "ax[0].set_title('Training & Validation Accuracy')\n",
        "ax[0].legend()\n",
        "ax[0].set_xlabel(\"Epochs\")\n",
        "ax[0].set_ylabel(\"Accuracy\")\n",
        "\n",
        "ax[1].plot(epochs , train_loss , 'g-o' , label = 'Training Loss')\n",
        "ax[1].plot(epochs , val_loss , 'r-o' , label = 'Testing Loss')\n",
        "ax[1].set_title('Testing Accuracy & Loss')\n",
        "ax[1].legend()\n",
        "ax[1].set_xlabel(\"Epochs\")\n",
        "ax[1].set_ylabel(\"Loss\")\n",
        "plt.show()"
      ],
      "metadata": {
        "colab": {
          "base_uri": "https://localhost:8080/",
          "height": 567
        },
        "id": "b2NiHzb7Z7cW",
        "outputId": "a5b6b4c1-1a22-483c-ce4b-1408f1ff3d1c"
      },
      "execution_count": 22,
      "outputs": [
        {
          "output_type": "display_data",
          "data": {
            "text/plain": [
              "<Figure size 1152x648 with 2 Axes>"
            ],
            "image/png": "[encoded data removed]"
          },
          "metadata": {
            "needs_background": "light"
          }
        }
      ]
    },
    {
      "cell_type": "code",
      "source": [
        "predictions = model.predict(X_test)\n",
        "rand_n = np.random.randint(100, size=3)\n",
        "    \n",
        "for i in rand_n:\n",
        "        img = X_test[i].reshape(8,8)\n",
        "        plt.imshow(img,cmap=\"gray\")\n",
        "        plt.show()\n",
        "        \n",
        "        print(\"Label: \", y_test[i])\n",
        "        print(\"Prediction: \", np.argmax(predictions[i]))\n"
      ],
      "metadata": {
        "colab": {
          "base_uri": "https://localhost:8080/",
          "height": 865
        },
        "id": "5d_R0iHkKvJI",
        "outputId": "206dd600-09ab-4dc9-8885-0c73bb49c216"
      },
      "execution_count": 17,
      "outputs": [
        {
          "output_type": "display_data",
          "data": {
            "text/plain": [
              "<Figure size 432x288 with 1 Axes>"
            ],
            "image/png": "[encoded data removed]"
          },
          "metadata": {
            "needs_background": "light"
          }
        },
        {
          "output_type": "stream",
          "name": "stdout",
          "text": [
            "Label:  2\n",
            "Prediction:  2\n"
          ]
        },
        {
          "output_type": "display_data",
          "data": {
            "text/plain": [
              "<Figure size 432x288 with 1 Axes>"
            ],
            "image/png": "[encoded data removed]"
          },
          "metadata": {
            "needs_background": "light"
          }
        },
        {
          "output_type": "stream",
          "name": "stdout",
          "text": [
            "Label:  4\n",
            "Prediction:  8\n"
          ]
        },
        {
          "output_type": "display_data",
          "data": {
            "text/plain": [
              "<Figure size 432x288 with 1 Axes>"
            ],
            "image/png": "[encoded data removed]"
          },
          "metadata": {
            "needs_background": "light"
          }
        },
        {
          "output_type": "stream",
          "name": "stdout",
          "text": [
            "Label:  5\n",
            "Prediction:  5\n"
          ]
        }
      ]
    }
  ]
}